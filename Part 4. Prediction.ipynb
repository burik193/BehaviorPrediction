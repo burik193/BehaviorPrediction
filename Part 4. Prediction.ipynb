{
 "cells": [
  {
   "cell_type": "code",
   "execution_count": 1,
   "id": "0654700d",
   "metadata": {
    "ExecuteTime": {
     "end_time": "2022-12-09T16:16:41.072767Z",
     "start_time": "2022-12-09T16:16:41.059538Z"
    }
   },
   "outputs": [],
   "source": [
    "import pandas as pd\n",
    "import gensim\n",
    "from gensim.parsing.preprocessing import remove_stopwords, preprocess_string\n",
    "from geopy import distance\n",
    "\n",
    "import sklearn\n",
    "from sklearn.preprocessing import OneHotEncoder, normalize\n",
    "from sklearn.ensemble import RandomForestClassifier as RFC\n",
    "from sklearn.model_selection import train_test_split\n",
    "import sklearn.metrics\n",
    "from sklearn.metrics import accuracy_score, confusion_matrix, ConfusionMatrixDisplay, roc_curve, auc, RocCurveDisplay, f1_score, recall_score, precision_score\n",
    "from sklearn import preprocessing\n",
    "import xlsxwriter\n",
    "from sklearn.model_selection import GridSearchCV, KFold\n",
    "import xgboost as xgb\n",
    "import multiprocessing\n",
    "\n",
    "from joblib import dump, load"
   ]
  },
  {
   "cell_type": "code",
   "execution_count": 2,
   "id": "788224f1",
   "metadata": {
    "ExecuteTime": {
     "end_time": "2022-12-09T15:38:40.169150Z",
     "start_time": "2022-12-09T15:38:37.197911Z"
    }
   },
   "outputs": [],
   "source": [
    "hcp_df = pd.read_csv('hcp_segment_37webs.csv')"
   ]
  },
  {
   "cell_type": "code",
   "execution_count": 3,
   "id": "9c5d3abf",
   "metadata": {
    "ExecuteTime": {
     "end_time": "2022-12-09T15:47:48.801916Z",
     "start_time": "2022-12-09T15:47:48.786179Z"
    }
   },
   "outputs": [],
   "source": [
    "def derive_topics(text: str) -> set:\n",
    "    words = gensim.utils.simple_preprocess(text)\n",
    "    words_prep = [preprocess_string(remove_stopwords(word)) for word in words]\n",
    "    return set([w[0] for w in words_prep if w])"
   ]
  },
  {
   "cell_type": "code",
   "execution_count": 39,
   "id": "88c549e6",
   "metadata": {
    "ExecuteTime": {
     "end_time": "2022-12-09T17:01:07.962370Z",
     "start_time": "2022-12-09T17:01:07.947276Z"
    }
   },
   "outputs": [],
   "source": [
    "webinar = {'webinar_name_original': ['Management of Hypothyroidism in Primary Health Care Workshop - Hybrid event'], 'webinar_latitude': [21.3866249], 'webinar_longitude': [51.6560391], 'day_of_year': [341], 'day_of_week': [4], 'webinar_duration': [240], 'topics': ['To discuss in general the primary Hypothyroidism.To discuss the classification & diagnosis of hypothyroidism and its management in primary health care. To discuss the Management of thyroid disease in pregnancy.'], '_segment_key': ['CM&E']}"
   ]
  },
  {
   "cell_type": "code",
   "execution_count": 38,
   "id": "b5e8a0d5",
   "metadata": {
    "ExecuteTime": {
     "end_time": "2022-12-09T16:52:23.467200Z",
     "start_time": "2022-12-09T16:52:23.455579Z"
    }
   },
   "outputs": [],
   "source": [
    "webinar = {'webinar_name_original': ['Merck FERTI Cases'], 'webinar_latitude': [28.0], 'webinar_longitude': [3.0], 'day_of_year': [341], 'day_of_week': [4], 'webinar_duration': [90], 'topics': ['The objective of this program is to explore with an international expert in fertility, complex clinical cases of Medically Assisted Procreation in a unique interactive format as close as possible to reality.'], '_segment_key': ['Fertility']}"
   ]
  },
  {
   "cell_type": "code",
   "execution_count": 5,
   "id": "f12dac21",
   "metadata": {
    "ExecuteTime": {
     "end_time": "2022-12-09T17:01:10.016262Z",
     "start_time": "2022-12-09T17:01:09.997473Z"
    }
   },
   "outputs": [],
   "source": [
    "webinar_df = pd.DataFrame.from_dict(webinar)"
   ]
  },
  {
   "cell_type": "code",
   "execution_count": 6,
   "id": "5127e4af",
   "metadata": {
    "ExecuteTime": {
     "end_time": "2022-12-09T17:01:10.915729Z",
     "start_time": "2022-12-09T17:01:10.903732Z"
    }
   },
   "outputs": [
    {
     "data": {
      "text/html": [
       "<div>\n",
       "<style scoped>\n",
       "    .dataframe tbody tr th:only-of-type {\n",
       "        vertical-align: middle;\n",
       "    }\n",
       "\n",
       "    .dataframe tbody tr th {\n",
       "        vertical-align: top;\n",
       "    }\n",
       "\n",
       "    .dataframe thead th {\n",
       "        text-align: right;\n",
       "    }\n",
       "</style>\n",
       "<table border=\"1\" class=\"dataframe\">\n",
       "  <thead>\n",
       "    <tr style=\"text-align: right;\">\n",
       "      <th></th>\n",
       "      <th>webinar_name_original</th>\n",
       "      <th>webinar_latitude</th>\n",
       "      <th>webinar_longitude</th>\n",
       "      <th>day_of_year</th>\n",
       "      <th>day_of_week</th>\n",
       "      <th>webinar_duration</th>\n",
       "      <th>topics</th>\n",
       "    </tr>\n",
       "  </thead>\n",
       "  <tbody>\n",
       "    <tr>\n",
       "      <th>0</th>\n",
       "      <td>Management of Hypothyroidism in Primary Health...</td>\n",
       "      <td>21.386625</td>\n",
       "      <td>51.656039</td>\n",
       "      <td>341</td>\n",
       "      <td>4</td>\n",
       "      <td>240</td>\n",
       "      <td>To discuss in general the primary Hypothyroidi...</td>\n",
       "    </tr>\n",
       "  </tbody>\n",
       "</table>\n",
       "</div>"
      ],
      "text/plain": [
       "                               webinar_name_original  webinar_latitude  \\\n",
       "0  Management of Hypothyroidism in Primary Health...         21.386625   \n",
       "\n",
       "   webinar_longitude  day_of_year  day_of_week  webinar_duration  \\\n",
       "0          51.656039          341            4               240   \n",
       "\n",
       "                                              topics  \n",
       "0  To discuss in general the primary Hypothyroidi...  "
      ]
     },
     "execution_count": 6,
     "metadata": {},
     "output_type": "execute_result"
    }
   ],
   "source": [
    "webinar_df"
   ]
  },
  {
   "cell_type": "code",
   "execution_count": 7,
   "id": "74826eb5",
   "metadata": {
    "ExecuteTime": {
     "end_time": "2022-12-09T17:01:11.829599Z",
     "start_time": "2022-12-09T17:01:11.818600Z"
    }
   },
   "outputs": [],
   "source": [
    "webinar_df['topics'] = webinar_df['topics'].apply(lambda x: derive_topics(x + webinar['webinar_name_original'][0]))"
   ]
  },
  {
   "cell_type": "markdown",
   "id": "e50c4305",
   "metadata": {
    "ExecuteTime": {
     "end_time": "2022-12-09T15:50:43.850014Z",
     "start_time": "2022-12-09T15:50:04.777750Z"
    }
   },
   "source": [
    "Bring both DFs together"
   ]
  },
  {
   "cell_type": "code",
   "execution_count": 8,
   "id": "cfde4889",
   "metadata": {
    "ExecuteTime": {
     "end_time": "2022-12-09T17:01:13.636425Z",
     "start_time": "2022-12-09T17:01:13.603208Z"
    }
   },
   "outputs": [],
   "source": [
    "# list of all hcps\n",
    "hcps = hcp_df['_account_key'].drop_duplicates()"
   ]
  },
  {
   "cell_type": "code",
   "execution_count": 9,
   "id": "0e405af3",
   "metadata": {
    "ExecuteTime": {
     "end_time": "2022-12-09T17:01:29.034331Z",
     "start_time": "2022-12-09T17:01:14.525379Z"
    }
   },
   "outputs": [],
   "source": [
    "# duplicate webiar row for each hcp\n",
    "webinar_df = pd.concat([webinar_df]*len(hcps), ignore_index=True)"
   ]
  },
  {
   "cell_type": "code",
   "execution_count": 10,
   "id": "a4f8ef65",
   "metadata": {
    "ExecuteTime": {
     "end_time": "2022-12-09T17:01:29.910326Z",
     "start_time": "2022-12-09T17:01:29.897532Z"
    }
   },
   "outputs": [],
   "source": [
    "webinar_df['_account_key'] = hcps"
   ]
  },
  {
   "cell_type": "code",
   "execution_count": 35,
   "id": "b02f5ac6",
   "metadata": {
    "ExecuteTime": {
     "end_time": "2022-12-09T17:01:30.756425Z",
     "start_time": "2022-12-09T17:01:30.742426Z"
    }
   },
   "outputs": [],
   "source": [
    "webinar_df['_segment_key'] = webinar['_segment_key']"
   ]
  },
  {
   "cell_type": "code",
   "execution_count": 36,
   "id": "70cde12f",
   "metadata": {
    "ExecuteTime": {
     "end_time": "2022-12-09T17:01:31.873588Z",
     "start_time": "2022-12-09T17:01:31.628076Z"
    }
   },
   "outputs": [],
   "source": [
    "train_data = hcp_df.merge(webinar_df, on='_account_key', how='inner')"
   ]
  },
  {
   "cell_type": "code",
   "execution_count": 37,
   "id": "a00c23f6",
   "metadata": {
    "ExecuteTime": {
     "end_time": "2022-12-09T17:01:32.716470Z",
     "start_time": "2022-12-09T17:01:32.704091Z"
    }
   },
   "outputs": [
    {
     "data": {
      "text/plain": [
       "(215278, 30)"
      ]
     },
     "execution_count": 37,
     "metadata": {},
     "output_type": "execute_result"
    }
   ],
   "source": [
    "train_data.shape"
   ]
  },
  {
   "cell_type": "markdown",
   "id": "2d52ef3a",
   "metadata": {},
   "source": [
    "### Derive needed features"
   ]
  },
  {
   "cell_type": "code",
   "execution_count": 248,
   "id": "5badbf01",
   "metadata": {
    "ExecuteTime": {
     "end_time": "2022-12-09T17:01:41.491394Z",
     "start_time": "2022-12-09T17:01:41.480011Z"
    }
   },
   "outputs": [],
   "source": [
    "# to make after merge\n",
    "# distance\n",
    "# segment_intersection\n",
    "# main_interests_score\n",
    "# similar_interests_score"
   ]
  },
  {
   "cell_type": "markdown",
   "id": "a9b4c67d",
   "metadata": {
    "ExecuteTime": {
     "end_time": "2022-12-09T16:07:32.640700Z",
     "start_time": "2022-12-09T16:07:32.629581Z"
    }
   },
   "source": [
    "#### Distance"
   ]
  },
  {
   "cell_type": "code",
   "execution_count": 14,
   "id": "f3c26d7c",
   "metadata": {
    "ExecuteTime": {
     "end_time": "2022-12-09T17:01:42.438525Z",
     "start_time": "2022-12-09T17:01:42.431338Z"
    }
   },
   "outputs": [
    {
     "data": {
      "text/plain": [
       "Index(['_account_key', 'account_country', 'account_latitude',\n",
       "       'account_longitude', 'account_status', 'account_id', 'label_x',\n",
       "       'label_y', 'num_webs', 'num_key_messages', 'main_interests',\n",
       "       'similar_interests', 'Conventionalists', 'Digitally Engaged',\n",
       "       'Engagers', 'Low Engagers', 'Not Segmented', 'CM&E', 'Fertility',\n",
       "       'Multi-Franchise', 'Neurology & Immunology', 'Oncology',\n",
       "       'webinar_name_original', 'webinar_latitude', 'webinar_longitude',\n",
       "       'day_of_year', 'day_of_week', 'webinar_duration', 'topics',\n",
       "       '_segment_key'],\n",
       "      dtype='object')"
      ]
     },
     "execution_count": 14,
     "metadata": {},
     "output_type": "execute_result"
    }
   ],
   "source": [
    "train_data.columns"
   ]
  },
  {
   "cell_type": "code",
   "execution_count": 15,
   "id": "c63a5353",
   "metadata": {
    "ExecuteTime": {
     "end_time": "2022-12-09T17:01:45.891759Z",
     "start_time": "2022-12-09T17:01:45.880761Z"
    }
   },
   "outputs": [],
   "source": [
    "dist_cache = {}\n",
    "def make_distance(c1: tuple, c2: tuple) -> float:\n",
    "    d = dist_cache.get(str(c1 + c2))\n",
    "    if d is None:\n",
    "        d = round(float(distance.distance(c1, c2).km), 2)\n",
    "        dist_cache[str(c1 + c2)] = d\n",
    "    return d"
   ]
  },
  {
   "cell_type": "code",
   "execution_count": 16,
   "id": "ec876f73",
   "metadata": {
    "ExecuteTime": {
     "end_time": "2022-12-09T17:01:53.587041Z",
     "start_time": "2022-12-09T17:01:46.737293Z"
    }
   },
   "outputs": [],
   "source": [
    "train_data['distance'] = train_data.apply(lambda row: make_distance((row['account_latitude'], row['account_longitude']), (row['webinar_latitude'], row['webinar_longitude'])), axis=1)"
   ]
  },
  {
   "cell_type": "markdown",
   "id": "38c880fe",
   "metadata": {},
   "source": [
    "#### segment_intersection"
   ]
  },
  {
   "cell_type": "code",
   "execution_count": 17,
   "id": "2b69519c",
   "metadata": {
    "ExecuteTime": {
     "end_time": "2022-12-09T17:01:57.619041Z",
     "start_time": "2022-12-09T17:01:57.601851Z"
    }
   },
   "outputs": [],
   "source": [
    "train_data['segment_intersection'] = train_data[webinar['_segment_key']]"
   ]
  },
  {
   "cell_type": "markdown",
   "id": "11411c23",
   "metadata": {},
   "source": [
    "#### main_interests_score"
   ]
  },
  {
   "cell_type": "code",
   "execution_count": 18,
   "id": "1c56da73",
   "metadata": {
    "ExecuteTime": {
     "end_time": "2022-12-09T17:01:59.259962Z",
     "start_time": "2022-12-09T17:01:59.246827Z"
    }
   },
   "outputs": [],
   "source": [
    "def calc_score(v1: set, v2: set) -> int:\n",
    "    return sum([1 for v in v2 if v in str(v1)])"
   ]
  },
  {
   "cell_type": "code",
   "execution_count": 19,
   "id": "af2f8916",
   "metadata": {
    "ExecuteTime": {
     "end_time": "2022-12-09T17:02:00.818573Z",
     "start_time": "2022-12-09T17:02:00.216986Z"
    }
   },
   "outputs": [],
   "source": [
    "train_data['main_interests_score'] = [calc_score(i, j) for i, j in zip(train_data['main_interests'], train_data['topics'])]"
   ]
  },
  {
   "cell_type": "code",
   "execution_count": 20,
   "id": "b30b4006",
   "metadata": {
    "ExecuteTime": {
     "end_time": "2022-12-09T17:02:02.850369Z",
     "start_time": "2022-12-09T17:02:01.727054Z"
    }
   },
   "outputs": [],
   "source": [
    "train_data['similar_interests_score'] = [calc_score(i, j) for i, j in zip(train_data['similar_interests'], train_data['topics'])]"
   ]
  },
  {
   "cell_type": "code",
   "execution_count": 21,
   "id": "d6a6c78d",
   "metadata": {
    "ExecuteTime": {
     "end_time": "2022-12-09T16:40:52.809232Z",
     "start_time": "2022-12-09T16:40:52.797889Z"
    }
   },
   "outputs": [
    {
     "data": {
      "text/plain": [
       "34"
      ]
     },
     "execution_count": 21,
     "metadata": {},
     "output_type": "execute_result"
    }
   ],
   "source": [
    "len(train_data.columns)"
   ]
  },
  {
   "cell_type": "markdown",
   "id": "90351d94",
   "metadata": {
    "ExecuteTime": {
     "end_time": "2022-12-09T16:10:26.472303Z",
     "start_time": "2022-12-09T16:10:26.442856Z"
    }
   },
   "source": [
    "#### Modeling"
   ]
  },
  {
   "cell_type": "code",
   "execution_count": 22,
   "id": "af3fd682",
   "metadata": {
    "ExecuteTime": {
     "end_time": "2022-12-09T16:54:22.250001Z",
     "start_time": "2022-12-09T16:54:22.234822Z"
    }
   },
   "outputs": [],
   "source": [
    "def scale(x: pd.Series):\n",
    "    scaler = preprocessing.MinMaxScaler()\n",
    "    arr = np.array(x).reshape(-1, 1)\n",
    "    scaler.fit(arr)\n",
    "    x = scaler.transform(arr)\n",
    "    return x.reshape(1,-1).tolist()[0]"
   ]
  },
  {
   "cell_type": "code",
   "execution_count": 23,
   "id": "9d709129",
   "metadata": {
    "ExecuteTime": {
     "end_time": "2022-12-09T16:54:22.759655Z",
     "start_time": "2022-12-09T16:54:22.747436Z"
    }
   },
   "outputs": [],
   "source": [
    "def fall_out_score(y_test, y_predict):\n",
    "    confusion = confusion_matrix(y_test, y_predict)\n",
    "    tn = confusion[0][0]\n",
    "    fp = confusion[0][1]\n",
    "    return fp/(fp+tn)"
   ]
  },
  {
   "cell_type": "code",
   "execution_count": 24,
   "id": "de213923",
   "metadata": {
    "ExecuteTime": {
     "end_time": "2022-12-09T17:02:09.566862Z",
     "start_time": "2022-12-09T17:02:09.557822Z"
    }
   },
   "outputs": [],
   "source": [
    "cols_to_drop = [\n",
    "    '_account_key',\n",
    "    'account_latitude',\n",
    "    'account_longitude',\n",
    "    'webinar_latitude',\n",
    "    'webinar_longitude',\n",
    "    'account_country',\n",
    "    'account_id',\n",
    "    '_segment_key',\n",
    "    'main_interests',\n",
    "    'similar_interests',\n",
    "    'topics',\n",
    "    'num_webs',\n",
    "    'webinar_name_original',\n",
    "    'account_id',\n",
    "    'account_country',\n",
    "    'Fertility', 'CM&E', 'Multi-Franchise', 'Neurology & Immunology', 'Oncology',\n",
    "]\n",
    "\n",
    "n_kfolds = 5\n",
    "max_depth = 20\n",
    "growth_policy = 'depthwise'\n",
    "eval_metric = fall_out_score\n",
    "test_size = 0.3"
   ]
  },
  {
   "cell_type": "code",
   "execution_count": 25,
   "id": "00c6085a",
   "metadata": {
    "ExecuteTime": {
     "end_time": "2022-12-09T17:02:24.045027Z",
     "start_time": "2022-12-09T17:02:23.952051Z"
    }
   },
   "outputs": [],
   "source": [
    "franchises = ['Fertility', 'CM&E', 'Multi-Franchise', 'Neurology & Immunology', 'Oncology']\n",
    "\n",
    "train_dfs = {}\n",
    "\n",
    "for f in franchises:\n",
    "    train_dfs[f] = train_data[train_data[f] == 1]\n",
    "train_dfs['whole_df'] = train_data"
   ]
  },
  {
   "cell_type": "code",
   "execution_count": 32,
   "id": "cad09909",
   "metadata": {
    "ExecuteTime": {
     "end_time": "2022-12-09T17:02:27.882781Z",
     "start_time": "2022-12-09T17:02:25.826494Z"
    }
   },
   "outputs": [],
   "source": [
    "y_predict = {}\n",
    "for name, df in train_dfs.items():\n",
    "    X = df.drop(columns=cols_to_drop)\n",
    "    X.fillna(0, inplace=True)\n",
    "    X = X[X['webinar_duration'] != 0]\n",
    "    \n",
    "    #scaler = preprocessing.MinMaxScaler()\n",
    "    #scaler.fit(X)\n",
    "    #X = scaler.transform(X)\n",
    "    \n",
    "    model_path = f'XGB_RF_37Webs_distance_fallout.joblib'\n",
    "    model = load(model_path)\n",
    "    y_predict[name] = model.predict(X)"
   ]
  },
  {
   "cell_type": "code",
   "execution_count": 33,
   "id": "86632eea",
   "metadata": {
    "ExecuteTime": {
     "end_time": "2022-12-09T17:02:28.925306Z",
     "start_time": "2022-12-09T17:02:28.756005Z"
    }
   },
   "outputs": [],
   "source": [
    "num_predicts = {k: sum(v) for k,v in y_predict.items()}"
   ]
  },
  {
   "cell_type": "code",
   "execution_count": 34,
   "id": "e0ae0d4b",
   "metadata": {
    "ExecuteTime": {
     "end_time": "2022-12-09T17:02:29.966945Z",
     "start_time": "2022-12-09T17:02:29.955434Z"
    }
   },
   "outputs": [
    {
     "data": {
      "text/plain": [
       "{'Fertility': 733,\n",
       " 'CM&E': 1182,\n",
       " 'Multi-Franchise': 0,\n",
       " 'Neurology & Immunology': 8,\n",
       " 'Oncology': 16,\n",
       " 'whole_df': 1939}"
      ]
     },
     "execution_count": 34,
     "metadata": {},
     "output_type": "execute_result"
    }
   ],
   "source": [
    "num_predicts"
   ]
  },
  {
   "cell_type": "code",
   "execution_count": 179,
   "id": "26b14c9e",
   "metadata": {
    "ExecuteTime": {
     "end_time": "2022-12-09T16:46:41.586428Z",
     "start_time": "2022-12-09T16:46:41.568910Z"
    }
   },
   "outputs": [
    {
     "data": {
      "text/plain": [
       "0"
      ]
     },
     "execution_count": 179,
     "metadata": {},
     "output_type": "execute_result"
    }
   ],
   "source": [
    "sum(y_predict['CM&E_4'])"
   ]
  },
  {
   "cell_type": "code",
   "execution_count": null,
   "id": "94a075db",
   "metadata": {},
   "outputs": [],
   "source": []
  },
  {
   "cell_type": "code",
   "execution_count": 226,
   "id": "73a11a58",
   "metadata": {
    "ExecuteTime": {
     "end_time": "2022-12-09T16:56:38.212275Z",
     "start_time": "2022-12-09T16:56:38.192025Z"
    }
   },
   "outputs": [],
   "source": [
    "prediction = train_dfs['Fertility'][[True if i == 1 else False for i in y_predict['Fertility_1']]]"
   ]
  },
  {
   "cell_type": "code",
   "execution_count": 227,
   "id": "01dfca85",
   "metadata": {
    "ExecuteTime": {
     "end_time": "2022-12-09T16:56:38.727910Z",
     "start_time": "2022-12-09T16:56:38.713861Z"
    }
   },
   "outputs": [
    {
     "data": {
      "text/plain": [
       "Algeria         381\n",
       "Saudi Arabia    244\n",
       "Germany         156\n",
       "Name: account_country, dtype: int64"
      ]
     },
     "execution_count": 227,
     "metadata": {},
     "output_type": "execute_result"
    }
   ],
   "source": [
    "prediction['account_country'].value_counts()"
   ]
  },
  {
   "cell_type": "code",
   "execution_count": 117,
   "id": "d075d3aa",
   "metadata": {
    "ExecuteTime": {
     "end_time": "2022-12-09T16:29:58.880735Z",
     "start_time": "2022-12-09T16:29:58.865317Z"
    }
   },
   "outputs": [
    {
     "data": {
      "text/plain": [
       "Germany         31389\n",
       "Algeria          5739\n",
       "Saudi Arabia     2436\n",
       "Name: account_country, dtype: int64"
      ]
     },
     "execution_count": 117,
     "metadata": {},
     "output_type": "execute_result"
    }
   ],
   "source": [
    "train_dfs['Fertility']['account_country'].value_counts()"
   ]
  },
  {
   "cell_type": "code",
   "execution_count": 228,
   "id": "2ec7bc1c",
   "metadata": {
    "ExecuteTime": {
     "end_time": "2022-12-09T16:56:50.893652Z",
     "start_time": "2022-12-09T16:56:50.879453Z"
    }
   },
   "outputs": [],
   "source": [
    "predicted_hcps = prediction['_account_key'].drop_duplicates()"
   ]
  },
  {
   "cell_type": "markdown",
   "id": "d275c0c3",
   "metadata": {
    "ExecuteTime": {
     "end_time": "2022-12-09T16:31:07.876663Z",
     "start_time": "2022-12-09T16:31:07.856600Z"
    }
   },
   "source": [
    "Check"
   ]
  },
  {
   "cell_type": "code",
   "execution_count": 229,
   "id": "4416c8e1",
   "metadata": {
    "ExecuteTime": {
     "end_time": "2022-12-09T16:56:51.939184Z",
     "start_time": "2022-12-09T16:56:51.931129Z"
    },
    "code_folding": [
     0
    ]
   },
   "outputs": [],
   "source": [
    "train_data_dtypes = {'_account_key': 'string',\n",
    " 'account': 'string',\n",
    " 'account_city': 'string',\n",
    " 'account_country': 'string',\n",
    " 'account_country_code': 'string',\n",
    " 'account_email': 'string',\n",
    " 'account_inkl_onekey': 'string',\n",
    " 'account_latitude': 'Float64',\n",
    " 'account_longitude': 'Float64',\n",
    " 'account_state': 'Int64',\n",
    " 'account_status': 'string',\n",
    " 'account_type': 'string',\n",
    " 'account_id': 'string',\n",
    " 'digital_affinity': 'string',\n",
    " 'digital_segmentation': 'string',\n",
    " 'gender': 'Int64',\n",
    " 'hcp_franchise': 'string',\n",
    " 'hcp_therapeutic_area': 'string',\n",
    " 'ispersonaccount': 'boolean',\n",
    " 'onekey_id': 'string',\n",
    " 'specialty_1': 'string',\n",
    " 'specialty_2': 'string',\n",
    " 'veeva_id': 'string',\n",
    " 'account_brick': 'string',\n",
    " 'account_territories': 'string',\n",
    " 'account_territories_per_bu': 'string',\n",
    " '_account_key_fdweb': 'string',\n",
    " 'account_key_original': 'string',\n",
    " 'account_id_na': 'boolean',\n",
    " '_webinar_key': 'Int64',\n",
    " '_calendar_key': 'Int64',\n",
    " '_product_key': 'Int64',\n",
    " '_segment_key': 'string',\n",
    " '_country_key': 'string',\n",
    " '_channel_key': 'string',\n",
    " '_campaign_key': 'string',\n",
    " 'account_cnt': 'string',\n",
    " 'webinar_participants_cnt': 'Int64',\n",
    " 'event_allchannels_cnt': 'string',\n",
    " '_fact_allchannels_event': 'Int64',\n",
    " '_has_campaign_id': 'Int64',\n",
    " '_webinar_has_web_campaign': 'Int64',\n",
    " 'webinar_cnt': 'Int64',\n",
    " '_timeline_key': 'string',\n",
    " 'attendence_type': 'string',\n",
    " '_attended': 'Int64',\n",
    " '_fulltimeattended': 'Int64',\n",
    " 'stream_time': 'Float64',\n",
    " 'user_rating': 'string',\n",
    " 'user_benefit_rate': 'Int64',\n",
    " 'source_system': 'string',\n",
    " '_mslteam': 'Int64',\n",
    " '_datasource_f_webinars': 'Int64',\n",
    " 'fact_source_': 'string',\n",
    " '_fact_actual': 'Int64',\n",
    " '_testaccount': 'Int64',\n",
    " '_individualcustomer': 'Int64',\n",
    " '_function_key': 'string',\n",
    " 'fact_function': 'string',\n",
    " '_franchiseviewtimeline_key': 'string',\n",
    " '_remoteevent': 'Int64',\n",
    " '_f2fevent': 'Int64',\n",
    " 'fact_country': 'string',\n",
    " 'webinar_fileextension': 'string',\n",
    " 'webinar_filename': 'string',\n",
    " 'webinar_duration': 'Int64',\n",
    " 'webinar_name': 'string',\n",
    " 'webinar_platform': 'string',\n",
    " 'account_id_fdweb': 'string',\n",
    " 'date': 'string',\n",
    " 'webinar_latitude': 'Float64',\n",
    " 'webinar_longitude': 'Float64',\n",
    " 'key_message': 'string'}"
   ]
  },
  {
   "cell_type": "code",
   "execution_count": 230,
   "id": "009a7f6b",
   "metadata": {
    "ExecuteTime": {
     "end_time": "2022-12-09T16:57:17.181743Z",
     "start_time": "2022-12-09T16:56:58.735127Z"
    }
   },
   "outputs": [],
   "source": [
    "train_data_full = pd.read_csv('fd_dacc_km_28-11-2022.csv', low_memory=True, dtype=train_data_dtypes)"
   ]
  },
  {
   "cell_type": "code",
   "execution_count": 231,
   "id": "70aeb9f4",
   "metadata": {
    "ExecuteTime": {
     "end_time": "2022-12-09T16:57:19.446049Z",
     "start_time": "2022-12-09T16:57:19.333467Z"
    }
   },
   "outputs": [],
   "source": [
    "predicted_hcps = train_data_full[train_data_full['_account_key'].isin(predicted_hcps)]"
   ]
  },
  {
   "cell_type": "code",
   "execution_count": 236,
   "id": "46f98d43",
   "metadata": {
    "ExecuteTime": {
     "end_time": "2022-12-09T17:00:16.191477Z",
     "start_time": "2022-12-09T17:00:16.160885Z"
    }
   },
   "outputs": [
    {
     "data": {
      "text/plain": [
       "<StringArray>\n",
       "['Fertility']\n",
       "Length: 1, dtype: string"
      ]
     },
     "execution_count": 236,
     "metadata": {},
     "output_type": "execute_result"
    }
   ],
   "source": [
    "predicted_hcps['hcp_franchise'].unique()"
   ]
  },
  {
   "cell_type": "code",
   "execution_count": null,
   "id": "6cbb3978",
   "metadata": {},
   "outputs": [],
   "source": []
  },
  {
   "cell_type": "code",
   "execution_count": 247,
   "id": "40e229f9",
   "metadata": {
    "ExecuteTime": {
     "end_time": "2022-12-09T17:01:37.291405Z",
     "start_time": "2022-12-09T17:01:37.256700Z"
    }
   },
   "outputs": [],
   "source": [
    "predicted_hcps.to_csv('Prediction_Merck_FERTI\\'Cases', index=False)"
   ]
  },
  {
   "cell_type": "code",
   "execution_count": null,
   "id": "23cd4cc8",
   "metadata": {},
   "outputs": [],
   "source": []
  }
 ],
 "metadata": {
  "kernelspec": {
   "display_name": "Python 3 (ipykernel)",
   "language": "python",
   "name": "python3"
  },
  "language_info": {
   "codemirror_mode": {
    "name": "ipython",
    "version": 3
   },
   "file_extension": ".py",
   "mimetype": "text/x-python",
   "name": "python",
   "nbconvert_exporter": "python",
   "pygments_lexer": "ipython3",
   "version": "3.9.13"
  },
  "toc": {
   "base_numbering": 1,
   "nav_menu": {},
   "number_sections": true,
   "sideBar": true,
   "skip_h1_title": false,
   "title_cell": "Table of Contents",
   "title_sidebar": "Contents",
   "toc_cell": false,
   "toc_position": {},
   "toc_section_display": true,
   "toc_window_display": false
  },
  "varInspector": {
   "cols": {
    "lenName": 16,
    "lenType": 16,
    "lenVar": 40
   },
   "kernels_config": {
    "python": {
     "delete_cmd_postfix": "",
     "delete_cmd_prefix": "del ",
     "library": "var_list.py",
     "varRefreshCmd": "print(var_dic_list())"
    },
    "r": {
     "delete_cmd_postfix": ") ",
     "delete_cmd_prefix": "rm(",
     "library": "var_list.r",
     "varRefreshCmd": "cat(var_dic_list()) "
    }
   },
   "types_to_exclude": [
    "module",
    "function",
    "builtin_function_or_method",
    "instance",
    "_Feature"
   ],
   "window_display": false
  },
  "vscode": {
   "interpreter": {
    "hash": "11938c6bc6919ae2720b4d5011047913343b08a43b18698fd82dedb0d4417594"
   }
  }
 },
 "nbformat": 4,
 "nbformat_minor": 5
}
